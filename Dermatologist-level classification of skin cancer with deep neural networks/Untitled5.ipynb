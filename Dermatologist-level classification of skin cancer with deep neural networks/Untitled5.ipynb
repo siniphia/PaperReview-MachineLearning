{
 "cells": [
  {
   "cell_type": "markdown",
   "metadata": {},
   "source": [
    "# Dermatologist-level Classification of Skin Cancer with Deep Neural Networks"
   ]
  },
  {
   "cell_type": "markdown",
   "metadata": {},
   "source": [
    "## 0. Abstract\n",
    "\n",
    "인간에게 가장 흔한 악성종양인 피부암은 최초 임상영상 및 피부경검분석, 생체검사, 그리고 조직검사를 통해 눈으로 직접 진단한다. 이미지를 사용한 피부병변 자동분류는 병변 외양의 굉장히 세분화된 형태 때문에 어려운 작업이다. CNN은 많은 세분화된 오브젝트를 구분하는 일반적이고 다양한 작업들에 대해 잠재능력을 가지고 있다. 우리의 연구내용은 다음과 같다.\n",
    "\n",
    "1. **모델** : 병명이 라벨링된 이미지들을 end-to-end 학습시킨 단일 CNN 모델\n",
    "2.  **목적** : 두 가지 영역(피부세포암 vs 양성피부각질, 악성흑색종 vs 양성반점)에서의 Binary Classification 작업\n",
    "  + 1st case : 가장 흔한 암\n",
    "  + 2nd case : 가장 치명적인 암\n",
    "<br><br> \n",
    "3.  **데이터셋** : 2032종류의 질병으로 구성된 129450개의 의료 이미지\n",
    "4.  **검증** : 자격을 갖춘 21명의 피부과 전문의들과 비교\n",
    "5.  **결과** : 두 영역 모두 전문의 수준의 정확도를 보여줌 -> 모바일 환경에서 잠재적으로 사용될 수 있을 것 -> 병원에 가지 않고 진단받을 수 있는 날이 올 것"
   ]
  },
  {
   "cell_type": "markdown",
   "metadata": {},
   "source": [
    "---\n",
    "## 1. Introduction\n",
    "\n",
    "### ※ 기존 연구와의 차별점\n",
    "\n",
    "#### (1) 표준화된 이미지 불필요\n",
    "\n",
    "과거 피부과 컴퓨터 분류 시스템들은 **불충분한 데이터**와 더모스코피와 피부조직이미지분류라는 **표준화된 작업들에 집중**했기 때문에 일반화 능력이 떨어진다. 더모스코피는 특수장비를 통해, 피부조직이미지는 외과적 생체검사와 현미경을 통해 얻어지며 둘 다 표준화된 이미지를 산출해낸다. 반면 스마트폰 이미지 같은 사진자료는 여러 요소들(줌, 각도, 조명 등)의 영향으로 다양하기 때문에 분류하기 어렵다. 우리는 141만장으로 훈련된 data-driven approach를 사용해 다양성을 지닌 사진 이미지들을 robust하게 classify할 수 있었다.\n",
    "\n",
    "#### (2) 전처리과정 불필요\n",
    "\n",
    "+ 기존 연구 : classification 이전에 여러 전처리과정(병변 segmentation, feature 추출 등)을 거침\n",
    "+ 이번 연구 : 전처리과정이 필요 없고 위에서 언급한 모델을 사용해 곧장 end-to-end로 훈련시킴\n",
    "\n",
    "#### (3) General한 모델 구현\n",
    "\n",
    "+ 기존 연구 : 일반적으로 1000장 미만의 피부병변 이미지를 사용해 새로운 이미지에는 general하게 적용할 수 없음\n",
    "+ 이번 연구 : 3374개의 피부과 이미지를 포함한 129450개의 의료 이미지를 사용해 분류의 generality를 보장\n",
    "\n",
    "\n",
    "딥러닝 알고리즘은 최근 아타리게임, 바둑, 그리고 오브젝트 인식 등의 시각적 작업에서 사람의 정확도를 넘어서고 있다. 여기서는 피부과 전문의 수준의 정확도를 이뤄낸 세 분야(흑색종 분류, 더모스코피를 활용한 흑색종 분류, 암종 분류)에서의 CNN의 발전에 대해 설명한다. 단 이미지 기반 분류를 벗어나지 않는 선에서 이뤄질 것이다. \n",
    "\n",
    "\n",
    "### ※ "
   ]
  }
 ],
 "metadata": {
  "kernelspec": {
   "display_name": "Python 3",
   "language": "python",
   "name": "python3"
  },
  "language_info": {
   "codemirror_mode": {
    "name": "ipython",
    "version": 3
   },
   "file_extension": ".py",
   "mimetype": "text/x-python",
   "name": "python",
   "nbconvert_exporter": "python",
   "pygments_lexer": "ipython3",
   "version": "3.6.4"
  }
 },
 "nbformat": 4,
 "nbformat_minor": 2
}
