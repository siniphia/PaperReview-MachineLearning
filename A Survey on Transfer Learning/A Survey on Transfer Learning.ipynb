{
 "cells": [
  {
   "cell_type": "markdown",
   "metadata": {},
   "source": [
    "# A Survey on Transfer Learning"
   ]
  },
  {
   "cell_type": "markdown",
   "metadata": {},
   "source": [
    "## 0. Abstract\n",
    "\n",
    "머신러닝 및 데이터 마이닝 알고리즘에서의 주요한 선행 가정 중 하나는 훈련 데이터와 미래 데이터의 feature space 및 distribution이 일치해야 한다는 것이다. 하지만 많은 실생활 어플리케이션에서 이 가정은 유지되지 않을 수 있다. 예를 들어, 우리가 어떤 관심분야에서의 분류 문제를 해결해야 할 때, feature space와 distribution이 같지 않은 또다른 관심분야의 훈련 데이터만 충분하게 가지고 있을 수 있다. 이런 경우 knowledge transfer가 성공적으로 이루어질 수 있다면 새로 데이터를 라벨링하는 비싼 댓가를 치루지 않고도 성능을 향상시킬 수 있다. 최근 transfer learning은 이런 문제를 해결하기 위한 새로운 학습 프레임워크로서 등장했다. \n",
    "\n",
    "이 서베이는 다음과 같은 내용을 담는다.\n",
    "+ **classification, regression, 그리고 clustering 문제에 관한 transfer learning**의 트렌드\n",
    "+ transfer learning과 다른 **ML테크닉**(domain adaptation, multitask learning, sample selection bias, co-variate shift 등)들 사이의 관계\n",
    "+ transfer learning에 대한 **잠재적인 미래 이슈들**"
   ]
  },
  {
   "cell_type": "markdown",
   "metadata": {},
   "source": [
    "---\n",
    "## 1. Introduction\n",
    "\n",
    "데이터 마이닝과 머신러닝 기술들은 이미 classification, regression 그리고 clustering 등의 많은 지식공학 분야에서 뛰어난 성공을 이뤄내고 있다. 하지만 많은 머신러닝 기술들은 오직 훈련 데이터와 테스트 데이터가 같은 feature space와 distribution을 가진다는 가정 하에서만 제대로 작동한다. distribution이 바뀌면 대부분의 통계학적 모델들은 데이터 수집 과정부터 재구성되어야 한다. 많은 실생활 어플리케이션에서 이런 작업은 비싸거나 아예 불가능할 수도 있다. 데이터 수집 과정을 줄일 수 있다면 멋질 것이다! 이런 경우 knowledge transfer 또는 transfer learning을 추천하는 바이다.\n",
    "\n",
    "1. **Web Document Classification** : 주어진 웹문서들을 사전 정의된 카데고리로 분류해야 하는 해당 작업에서는, 예전에 다른 카데고리로 라벨링된 데이터를 이용해야 할 수 있다. 이 때 transfer learning을 사용한다면 현재 사용하는 카데고리로 새로 라벨링하는 수고를 덜 수 있다.\n",
    "\n",
    "2. **Indoor WiFi Localization** : 예전에 모은 데이터는 현재 데이터와 그 분포가 다르기 때문에 데이터가 쉽게 구식이 되는 분야이다. 이전에 모은 사용자의 위치 데이터로 현재 위치를 예측해야 하는 것이다. "
   ]
  }
 ],
 "metadata": {
  "kernelspec": {
   "display_name": "Python 3",
   "language": "python",
   "name": "python3"
  },
  "language_info": {
   "codemirror_mode": {
    "name": "ipython",
    "version": 3
   },
   "file_extension": ".py",
   "mimetype": "text/x-python",
   "name": "python",
   "nbconvert_exporter": "python",
   "pygments_lexer": "ipython3",
   "version": "3.6.4"
  }
 },
 "nbformat": 4,
 "nbformat_minor": 2
}
