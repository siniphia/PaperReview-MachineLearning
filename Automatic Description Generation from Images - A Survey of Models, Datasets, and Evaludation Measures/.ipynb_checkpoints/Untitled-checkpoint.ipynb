{
 "cells": [
  {
   "cell_type": "markdown",
   "metadata": {},
   "source": [
    "# Automatic Description Generation from Images : A Survey of Models, Datasets, and Evaluation Measures\n",
    "## 0. Abstract\n",
    "+ **Automatic Image Description** : 사진을 입력하면 자연어로 설명해주는 것 (Ex. 사람들이 전철을 기다리고 있다.)\n",
    "    \n",
    "+ AID를 구현하기 위한 *Model*, 사용된 *Dataset*, 그리고 *Benchmark*에 대한 서베이 논문"
   ]
  },
  {
   "cell_type": "markdown",
   "metadata": {},
   "source": [
    "## 1. Introduction\n",
    "\n",
    "+ AID는 이미지와 자연어를 다룬다 → **Computer Vision + Natural Language Processing**의 조합\n",
    "\n",
    "\n",
    "### (1) Computer Vision\n",
    "+ Image로부터 object, attribute, feature, 더 나아가 묘사되지 않은 정보까지도 추출해 낸다\n",
    "+ Ex) 그림엔 전철이 없는데 '사람들이 전철을 기다리고 있다'고 묘사\n",
    "\n",
    "\n",
    "### (2) Natural Language Processing\n",
    "+ 위에서 추출된 정보를 자연어로 생성시키고 크게 세 부분으로 나눠진다.\n",
    "\n",
    "\n",
    "1. content selection : 어떤 object를 묘사할지 선정\n",
    "2. text planning : 어떤 aspect(object간의 관계)를 묘사할지 선정\n",
    "3. surface realization : 자연어를 생성하는 단계인데 또 세 부분으로 나눠짐\n",
    "    1. lexicalization : 단어를 선정해줌 (cat, play, woman)\n",
    "    2. referential expression generation : 문법에 맞게 단어들을 추가하거나 수정해줌 (cats, are playing with, a woman)\n",
    "    3. aggregation : 단어 조각들을 연결해줌 (cats are playing with a woman)"
   ]
  },
  {
   "cell_type": "markdown",
   "metadata": {},
   "source": [
    "## 2. Image Description Models\n",
    "+ 이 일련의 과정들을 구현하는데 어떤 모델들이 사용될까?\n",
    "\n",
    "### (1) Generation from 'Visual Input'\n",
    "1. 이미지에서 '속성' 및 '관계' 등의 정보들을 일반적으로 Tuple / Triple 형식으로 뽑아냄\n",
    "2. 문장을 구성함 : n-gram, RNN에 sentence template를 사용해 구성\n",
    "  + Sentence Template : VDR + Tree 구조로 저장되어 있는 실제 문장 견본\n",
    "  \n",
    "큰 Dataset이 필요하지 않다!\n",
    "\n",
    "### (2) Retrieval from 'Visual Space'\n",
    "+ 위 모델은 바로 문장을 Generation 하지만, 이번 모델은 Visual Space로부터 Input Image를 구성하고 있는 Object들을 검색(Retrieve)해 문장을 만들어낸다.\n",
    "+ Visual Space란 일종의 Dataset이고 Image-Text로 Labeling 되어져 있으며, 들어온 이미지\n",
    "\n",
    "\n",
    "### (3) Retrieval from 'Multimodal Space'"
   ]
  }
 ],
 "metadata": {
  "kernelspec": {
   "display_name": "Python 3",
   "language": "python",
   "name": "python3"
  },
  "language_info": {
   "codemirror_mode": {
    "name": "ipython",
    "version": 3
   },
   "file_extension": ".py",
   "mimetype": "text/x-python",
   "name": "python",
   "nbconvert_exporter": "python",
   "pygments_lexer": "ipython3",
   "version": "3.6.1"
  }
 },
 "nbformat": 4,
 "nbformat_minor": 2
}
