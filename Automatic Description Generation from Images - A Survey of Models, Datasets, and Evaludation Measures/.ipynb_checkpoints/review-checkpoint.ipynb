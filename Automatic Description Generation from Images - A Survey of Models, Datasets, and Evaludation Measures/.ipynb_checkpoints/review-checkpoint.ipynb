{
 "cells": [
  {
   "cell_type": "markdown",
   "metadata": {},
   "source": [
    "# Automatic Description Generation from Images : A Survey of Models, Datasets, and Evaluation Measures\n",
    "---\n",
    "## 0. Abstract\n",
    "+ **Automatic Image Description**이란 입력받은 사진을 사람들이 사용하는 문장으로 묘사해주는 것을 의미한다.\n",
    "+ 예를 들어 역에 사람들이 모여있는 *이미지를 Input*으로 받아 '사람들이 전철을 기다리고 있다.'라는 식의 *텍스트 Output*을 내놓는 것이다.\n",
    "    \n",
    "+ 이 논문은 AID에 대한 서베이로서 구현을 위한 *Model*, 사용된 *Dataset*, 그리고 실제 *Evaluation*을 설명한다."
   ]
  },
  {
   "cell_type": "markdown",
   "metadata": {},
   "source": [
    "---\n",
    "## 1. Introduction\n",
    "\n",
    "+ AID는 이미지와 자연어를 다룬다 → 즉 **Computer Vision**과 **Natural Language Processing** 기술을 조합하게 된다.\n",
    "\n",
    "\n",
    "### (1) Computer Vision\n",
    "+ 컴퓨터 비전 단계에서는, Image로부터 object, attribute, feature, 더 나아가 **묘사되지 않은 정보**까지도 추출해 낸다.\n",
    "+ 예를 들어, 그림엔 전철이 없는데 **'사람들이 전철을 기다리고 있다'**라고 묘사할 수 있을 정도로 정보를 추출해 내는 것이다.\n",
    "\n",
    "\n",
    "### (2) Natural Language Processing\n",
    "+ 자연어 처리 단계에서는, 위에서 추출된 정보를 바탕으로 자연어로 생성시키는데 크게 세 부분으로 나눠진다.\n",
    "\n",
    "\n",
    "1. content selection : 묘사할 object를 선정한다 (수많은 object들 중 사람과 전철을 선정)\n",
    "2. text planning : 묘사할 aspect를 선정한다 (object 간의 관계 즉 사람들이 역 옆에 있다, 사람들끼리 서로 바라보고 있다 등을 선정)\n",
    "3. surface realization : 자연어를 생성하는 단계인데 또 세 부분으로 나눠진다\n",
    "    1. lexicalization : object, aspect, attribute 등을 묘사할 단어를 선정해줌 (people, wait, train)\n",
    "    2. referential expression generation : 문법에 맞게 단어들을 추가하거나 수정해줌 (wait → are waiting 등)\n",
    "    3. aggregation : 단어 조각들을 연결해줌 (people are waiting a train)"
   ]
  },
  {
   "cell_type": "markdown",
   "metadata": {},
   "source": [
    "---\n",
    "## 2. Image Description Models\n",
    "+ 이 일련의 과정들을 구현하는데 어떤 모델들이 사용될까?\n",
    "\n",
    "### (1) Generation from 'Visual Input'\n",
    "1. CV : 이미지에서 '속성' 및 '관계' 등의 정보들을 일반적으로 Tuple / Triple 형식으로 뽑아낸다.\n",
    "2. NLP : 문장을 구성함 : Sentence Template에다가 N-gram, RNN 등을 적용해 구성한다.\n",
    "  + Sentence Template : VDR + Tree 구조로 저장되어 있는 실제 문장 견본\n",
    "  \n",
    "큰 Dataset이 필요하지 않다!\n",
    "\n",
    "### (2) Retrieval from 'Visual Space'\n",
    "+ 위 모델은 바로 문장을 Generation 하지만, 이번 모델은 Visual Space로부터 Input Image를 구성하고 있는 Object들을 검색(Retrieve)해 문장을 만들어낸다.\n",
    "+ Visual Space란 일종의 Dataset이고 Image-Text로 Labeling 되어져 있으며, 들어온 이미지\n",
    "\n",
    "\n",
    "### (3) Retrieval from 'Multimodal Space'"
   ]
  }
 ],
 "metadata": {
  "kernelspec": {
   "display_name": "Python 3",
   "language": "python",
   "name": "python3"
  },
  "language_info": {
   "codemirror_mode": {
    "name": "ipython",
    "version": 3
   },
   "file_extension": ".py",
   "mimetype": "text/x-python",
   "name": "python",
   "nbconvert_exporter": "python",
   "pygments_lexer": "ipython3",
   "version": "3.6.1"
  }
 },
 "nbformat": 4,
 "nbformat_minor": 2
}
