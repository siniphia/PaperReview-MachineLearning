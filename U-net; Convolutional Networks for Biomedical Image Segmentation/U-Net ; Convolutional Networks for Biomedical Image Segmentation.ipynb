{
 "cells": [
  {
   "cell_type": "markdown",
   "metadata": {},
   "source": [
    "# U-Net : Convolutional Networks for Biomedical Image Segmentation"
   ]
  },
  {
   "cell_type": "markdown",
   "metadata": {},
   "source": [
    "## 0. Abstract\n",
    "\n",
    "일반적으로 성공적인 DNN 학습을 위해서는 굉장히 많은 주석달린 훈련용 샘플들이 필요하다는 것이 자명하다. 이 논문에서 우리는 data augmentation을 적용해 매우 적은 이미지 데이터로 높은 성능을 내는 네트워크 및 학습 전략을 제안한다. 또한 이 네트워크는 512x512 이미지의 segmentation이 최신 GPU 기준으로 1초도 걸리지 않을 정도로 빠르며, Caffee로 구현한 코드와 학습된 네트워크를 http://lmb.informatik.uni-freiburg.de/people/ronneber/u-net 에서 확인 가능하다.\n",
    "\n",
    "+ Network Architecture\n",
    "  + 문맥을 파악하기 위한 **contracting path**\n",
    "  + 정밀한 localization을 가능하게 하는 **symmetric expanding path**\n",
    "<br><br>\n",
    "+ Acheivements\n",
    "  + **ISBI challenge for segmentation of neu-ronal structures in electron microscopic stacks** : 전자현미경으로 얻은 뉴런 이미지들의 구조를 segmentation하는 이 대회에서 기존에 최고의 성능을 내던 sliding-window CNN을 뛰어넘음\n",
    "  + **2015 ISBI cell tracking challenge** : 투과광선현미경이미지를 학습시켜 큰 차이로 우승"
   ]
  },
  {
   "cell_type": "markdown",
   "metadata": {},
   "source": [
    "## 1. Introduction\n",
    "\n",
    "최근 2년 간 DNN은 많은 비전인식분야에서 뛰어난 성능을 내고 있다. 하지만 CNN은 등장한지 오래 되었지만 한계를 맞이하게 되었는데, 이것은 훈련데이터와 네트워크의 크기 때문이다. Krizhevsky et al.의 성공은 무려 8계층의 큰 네트워크와 100만장의 ImageNet 데이터셋에 적용된 수백만개의 파라미터 덕분이었다. 그 이후로 더 크고 깊은 네트워크들의 학습이 이루어졌다.\n",
    "\n",
    "CNN의 일반적인 사용처는 단일 클래스로 라벨링된 이미지에 대한 분류 문제이다. 하지만 많은 비전 분야, 특히 바이오 이미지 처리에서는 그 결과로 지역정보를 필요로 한다. 곧 각각의 픽셀마다 라벨링을 한 결과를 필요로 하는 것이다. 게다가 바이오메디컬 분야에서 수많은 이미지를 학습시키는 건 쉬운 일이 아니다. 따라서 Ciresan et al.은 해당 픽셀의 주변 정보를 입력으로 넣어 각각의 픽셀들에 대한 클래스 라벨을 예측하기 위해 sliding-window 네트워크를 제안했다. 먼저, 이 네트워크는 지역화가 가능하다. 그리고 훈련데이터들은 기존의 것보다 더 커지게 된다. 이 네트워크는 큰 차이로 2012 ISBI EM segmentation challenge를 우승했다.\n",
    "\n",
    "명백히 그들의 전략은 두 가지 단점이 있다.\n",
    "+ 네트워크는 각각의 조각마다 따로 학습되어야 하기 때문에 속도가 느리고, 겹치는 조각들 때문에 낭비가 많다. \n",
    "+ localization의 정확도와 문맥의 사용간의 trade-off가 있다 : 큰 조각들은 더 많은 max-pooling layer를 요구하는데, 이러면 localization 정확도가 줄어든다. 반대로 작은 조각들은 문맥 정보를 잘 나타내지 못하게 된다.\n",
    "\n",
    "이후 연구들은 개선을 통해 localization과 context를 둘 다 좋게 만들었다.\n",
    "\n",
    "\n",
    "### Fully-Convolutional Network\n",
    "\n",
    "+ 본 연구 모델의 기반이 되는 네트워크 아키텍쳐\n",
    "\n",
    "Fully-Convolutional Network의 주 아이디어는 pooling 연산을 upsampling 연산으로 대체하는 것이다. 따라서 각 layer들은 output의 해상도를 높여준다. localization을 위해 contracting path에서 얻어진 고해상도 feature들은 upsample된 output과 결합된다. 이 정보를 기반으로 연속된 convolution layer들은 더 정확한 결과르 만들어낸다.\n",
    "\n",
    "\n",
    "### Our Modification\n",
    "\n",
    "+ FCN을 기반으로 무엇을 수정하였는가?\n",
    "\n",
    "1. "
   ]
  }
 ],
 "metadata": {
  "kernelspec": {
   "display_name": "Python 3",
   "language": "python",
   "name": "python3"
  },
  "language_info": {
   "codemirror_mode": {
    "name": "ipython",
    "version": 3
   },
   "file_extension": ".py",
   "mimetype": "text/x-python",
   "name": "python",
   "nbconvert_exporter": "python",
   "pygments_lexer": "ipython3",
   "version": "3.6.4"
  }
 },
 "nbformat": 4,
 "nbformat_minor": 2
}
