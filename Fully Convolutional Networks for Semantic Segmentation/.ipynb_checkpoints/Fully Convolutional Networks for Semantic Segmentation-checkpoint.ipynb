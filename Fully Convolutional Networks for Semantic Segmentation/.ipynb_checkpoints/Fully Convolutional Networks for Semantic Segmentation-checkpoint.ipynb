{
 "cells": [
  {
   "cell_type": "markdown",
   "metadata": {},
   "source": [
    "# Fully Convolutional Networks for Semantic Segmentation"
   ]
  },
  {
   "cell_type": "markdown",
   "metadata": {},
   "source": [
    "## 0. Abstract\n",
    "\n",
    "+ CNN이 **Semantic Segmentation**에서 최고의 결과를 낼 수 있을까?\n",
    "+ 임의 크기의 입력을 받아 같은 크기의 출력을 만들어내는 **Fully-Convolutional Network**을 적용하면 가능하다.\n",
    "+ 즉 deep, coarse layer로부터의 **Semantic Information**과 shallow, fine layer로부터의 **Appearance Information**을 결합해 정확하고 상세한 segmentation 결과를 산출하는 것이다.\n",
    "+ 우리는 FCN을 기존 모델들(AlexNet, VGG, GoogLeNet)에 이식할 것이다.\n",
    "+ 마지막으로 PASCAL VOC, NYUDv2, 그리고 SIFT Flow에서 성능 평가를 한다."
   ]
  },
  {
   "cell_type": "markdown",
   "metadata": {},
   "source": [
    "---\n",
    "## 1. Introduction\n",
    "\n",
    "### 기존 연구와의 차별점\n",
    "\n",
    "+ **픽셀마다 예측** : 각 픽셀들이 어떤 클래스에 속하는지 전부 예측 후 그 결과를 모아 Segmentation하는 작업에 FCN을 사용한 건 이번이 최초임\n",
    "+ **Pre-train된 모델에 적용 가능** : Classification 목적으로 Pre-trained model을 fine-tuning해 Segmentation에 사용한 최초의 연구\n",
    "+ **기타 전처리, 후처리가 불필요함** : Superpixels, Proposals, Post-hoc Refinement 등.."
   ]
  },
  {
   "cell_type": "markdown",
   "metadata": {},
   "source": [
    "---\n",
    "## 2. Related Work\n",
    "\n",
    "### 기본적인 참고\n",
    "\n",
    "+ DNN, Transfer Learning\n",
    "\n",
    "### Fully Convolutional Networks 관련\n",
    "\n",
    "+ **Matan et al.** : LeNet을 확장시켜 **임의사이즈의 input**을 넣을 수 있게 한 최초의 연구이다. 어떤 숫자인지 판단해줄 뿐이므로 **output은 1차원에 한정**된다.\n",
    "+ **Wolf and Platt** : 우편번호가 적인 부분의 네 귀퉁이를 찾는 연구로써 **output을 2차원으로 확장**시킴\n",
    "+ **Ning et al.** : CNN을 사용해 C. elegans 조직을 **coarse multiclass segmentation**시킨 연구\n",
    "+ **Sermanet et al.** : Sliding Window Detection\n",
    "+ **Pinheiro and Collobert** : Semantic Segmentation\n",
    "+ **Eigen et al.** : Image Restoration\n",
    "+ **Tompson et al.** : 흔치 않은 Fully Convolutional Training에 대한 연구\n",
    "+ **He et al.** : feature extractor를 만들기 위해 non-convolutional한 부분을 제거\n",
    "\n",
    "\n",
    "### Dense Prediction with Convnets 관련\n",
    "\n",
    "+ small models restricting capacity and receptive fields\n",
    "+ patchwise training\n",
    "+ post-processing by superpixel projection, random field regularization, filtering, or local classification\n",
    "+ input shifting and output interlacing for dense output\n",
    "+ multi-scale pyramid processing\n",
    "+ saturating tanh nonlinearities\n",
    "+ ensembles 등등..."
   ]
  },
  {
   "cell_type": "markdown",
   "metadata": {},
   "source": [
    "---\n",
    "## 3. Fully Convolutional Networks\n",
    "\n",
    "### (1) 기본적인 사항\n",
    "\n",
    "+ 각각의 레이어들은 h x w x d의 3차원이다.\n",
    "+ 수용영역(Receptive Field) : 한 레이어에서 수용영역이란 상위 레이어에 적용되는 필터(Max Pooling 등)의 커널 사이즈와 같다. 즉, 필터로 인해 수용영역이 하나의 픽셀로 변해 다음 레이어로 전달되는 것이다. 이런 과정으로 인해 지역적 문맥이 생겨난다. 많은 수용영역을 적용한다면(= 필터를 많이 써서 크기를 줄이면) 연산 과정이 효과적으로 이뤄진다.\n",
    "\n",
    "### (2) Classifier를 FCN으로 바꾸는 과정\n",
    "\n"
   ]
  }
 ],
 "metadata": {
  "kernelspec": {
   "display_name": "Python 3",
   "language": "python",
   "name": "python3"
  },
  "language_info": {
   "codemirror_mode": {
    "name": "ipython",
    "version": 3
   },
   "file_extension": ".py",
   "mimetype": "text/x-python",
   "name": "python",
   "nbconvert_exporter": "python",
   "pygments_lexer": "ipython3",
   "version": "3.6.1"
  }
 },
 "nbformat": 4,
 "nbformat_minor": 2
}
