{
 "cells": [
  {
   "cell_type": "markdown",
   "metadata": {},
   "source": [
    "# Fully Convolutional Networks for Semantic Segmentation"
   ]
  },
  {
   "cell_type": "markdown",
   "metadata": {},
   "source": [
    "## 0. Abstract\n",
    "\n",
    "+ CNN이 **Semantic Segmentation**에서 최고의 결과를 낼 수 있을까?\n",
    "+ 임의 크기의 입력을 받아 같은 크기의 출력을 만들어내는 **Fully-Convolutional Network**을 적용하면 가능하다.\n",
    "+ 즉 deep, coarse layer로부터의 **Semantic Information**과 shallow, fine layer로부터의 **Appearance Information**을 결합해 정확하고 상세한 segmentation 결과를 산출하는 것이다.\n",
    "+ 우리는 FCN을 기존 모델들(AlexNet, VGG, GoogLeNet)에 이식할 것이다.\n",
    "+ 마지막으로 PASCAL VOC, NYUDv2, 그리고 SIFT Flow에서 성능 평가를 한다."
   ]
  },
  {
   "cell_type": "markdown",
   "metadata": {},
   "source": [
    "---\n",
    "## 1. Introduction\n",
    "\n",
    "### 기존 연구와의 차별점\n",
    "\n",
    "+ **픽셀마다 예측** : 각 픽셀들이 어떤 클래스에 속하는지 전부 예측 후 그 결과를 모아 Segmentation하는 작업에 FCN을 사용한 건 이번이 최초임\n",
    "+ **Pre-train된 모델에 적용 가능** : Classification을 위해 학습된 모델을 재해석해 Segmentation에 사용할 수 있는데 이것도 최초임\n",
    "+ **기타 전처리, 후처리가 불필요함** : Superpixels, Proposals, Post-hoc Refinement 등.."
   ]
  },
  {
   "cell_type": "markdown",
   "metadata": {},
   "source": [
    "---\n",
    "## 2. Related Work"
   ]
  },
  {
   "cell_type": "markdown",
   "metadata": {},
   "source": [
    "---\n",
    "## 3. Fully Convolutional Networks\n",
    "\n"
   ]
  }
 ],
 "metadata": {
  "kernelspec": {
   "display_name": "Python 3",
   "language": "python",
   "name": "python3"
  },
  "language_info": {
   "codemirror_mode": {
    "name": "ipython",
    "version": 3
   },
   "file_extension": ".py",
   "mimetype": "text/x-python",
   "name": "python",
   "nbconvert_exporter": "python",
   "pygments_lexer": "ipython3",
   "version": "3.6.4"
  }
 },
 "nbformat": 4,
 "nbformat_minor": 2
}
